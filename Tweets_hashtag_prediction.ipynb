{
 "cells": [
  {
   "cell_type": "markdown",
   "metadata": {},
   "source": [
    "# Tweets hashtag Prediction Model Evaluation"
   ]
  },
  {
   "cell_type": "code",
   "execution_count": 1,
   "metadata": {},
   "outputs": [
    {
     "name": "stderr",
     "output_type": "stream",
     "text": [
      "C:\\Users\\wy_cl\\AppData\\Local\\Continuum\\anaconda3\\lib\\site-packages\\h5py\\__init__.py:36: FutureWarning: Conversion of the second argument of issubdtype from `float` to `np.floating` is deprecated. In future, it will be treated as `np.float64 == np.dtype(float).type`.\n",
      "  from ._conv import register_converters as _register_converters\n",
      "Using TensorFlow backend.\n"
     ]
    }
   ],
   "source": [
    "from keras.models import model_from_json\n",
    "from sklearn.metrics import precision_recall_fscore_support\n",
    "from sklearn import preprocessing\n",
    "import numpy as np\n",
    "\n",
    "def model_evaluation(x_test, y_test, model_path, weights_path):\n",
    "    model = model_from_json(open(model_path).read())\n",
    "    model.load_weights(weights_path)\n",
    "    y_pred = model.predict_classes(x_test)\n",
    "    y_true = [ np.where(r==1)[0][0] for r in y_test ]\n",
    "    s = precision_recall_fscore_support(y_true, y_pred, average='micro')\n",
    "    print('Precision: {}'.format(s[0]))"
   ]
  },
  {
   "cell_type": "markdown",
   "metadata": {},
   "source": [
    "### TF/IDF"
   ]
  },
  {
   "cell_type": "code",
   "execution_count": 9,
   "metadata": {},
   "outputs": [
    {
     "name": "stdout",
     "output_type": "stream",
     "text": [
      "Precision: 0.15967911497009374\n"
     ]
    }
   ],
   "source": [
    "from sklearn.model_selection import train_test_split\n",
    "import scipy.sparse\n",
    "\n",
    "weights_path= \"D:/MachineLearning/Dataset/tfidf_Logistic_wts.h5\"\n",
    "model_path = \"D:/MachineLearning/Dataset/tfidf_Logistic_model.json\"\n",
    "x_test = scipy.sparse.load_npz('D:/MachineLearning/Dataset/test_data/x_test_tfidf.npz')\n",
    "y_test = np.load('D:/MachineLearning/Dataset/test_data/y_test_tfidf.npy')\n",
    "\n",
    "model_evaluation(x_test.todense(), y_test, model_path, weights_path)"
   ]
  },
  {
   "cell_type": "markdown",
   "metadata": {},
   "source": [
    "### Average Word2Vec  "
   ]
  },
  {
   "cell_type": "code",
   "execution_count": 11,
   "metadata": {},
   "outputs": [
    {
     "name": "stdout",
     "output_type": "stream",
     "text": [
      "Precision: 0.311387511598796\n",
      "Recall: 0.311387511598796\n",
      "F1-Score: 0.311387511598796\n"
     ]
    }
   ],
   "source": [
    "\n",
    "weights_path= \"D:/MachineLearning/Dataset/w2v_Logistic_wts.h5\"\n",
    "model_path = \"D:/MachineLearning/Dataset/w2v_Logistic_model.json\"\n",
    "x_test = np.load('D:/MachineLearning/Dataset/test_data/x_test_w2v.npy')\n",
    "y_test = np.load('D:/MachineLearning/Dataset/test_data/y_test_w2v.npy')\n",
    "\n",
    "model_evaluation(x_test, y_test, model_path, weights_path)"
   ]
  },
  {
   "cell_type": "markdown",
   "metadata": {},
   "source": [
    "### RNN with 2 LSTM layers"
   ]
  },
  {
   "cell_type": "code",
   "execution_count": 2,
   "metadata": {},
   "outputs": [
    {
     "name": "stdout",
     "output_type": "stream",
     "text": [
      "Precision: 0.34441419975375853\n"
     ]
    }
   ],
   "source": [
    "weights_path= \"D:/MachineLearning/Dataset/lstm_wts.h5\"\n",
    "model_path = \"D:/MachineLearning/Dataset/lstm_model.json\"\n",
    "x_test = np.load('D:/MachineLearning/Dataset/test_data/x_test_nn.npy')\n",
    "y_test = np.load('D:/MachineLearning/Dataset/test_data/y_test_nn.npy')\n",
    "\n",
    "model_evaluation(x_test, y_test, model_path, weights_path)"
   ]
  },
  {
   "cell_type": "code",
   "execution_count": null,
   "metadata": {},
   "outputs": [],
   "source": []
  }
 ],
 "metadata": {
  "kernelspec": {
   "display_name": "Python 3",
   "language": "python",
   "name": "python3"
  },
  "language_info": {
   "codemirror_mode": {
    "name": "ipython",
    "version": 3
   },
   "file_extension": ".py",
   "mimetype": "text/x-python",
   "name": "python",
   "nbconvert_exporter": "python",
   "pygments_lexer": "ipython3",
   "version": "3.6.4"
  }
 },
 "nbformat": 4,
 "nbformat_minor": 2
}
