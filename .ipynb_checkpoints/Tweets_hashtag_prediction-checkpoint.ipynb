{
 "cells": [
  {
   "cell_type": "markdown",
   "metadata": {},
   "source": [
    "# Tweets hashtag Prediction Model Evaluation"
   ]
  },
  {
   "cell_type": "code",
   "execution_count": 9,
   "metadata": {},
   "outputs": [],
   "source": [
    "from keras.models import model_from_json\n",
    "from sklearn.metrics import precision_recall_fscore_support\n",
    "from sklearn import preprocessing\n",
    "import numpy as np\n",
    "\n",
    "def model_evaluation(x_test, y_test, model_path, weights_path):\n",
    "    model = model_from_json(open(model_path).read())\n",
    "    model.load_weights(weights_path)\n",
    "    y_pred = model.predict_classes(x_test)\n",
    "    y_true = [ np.where(r==1)[0][0] for r in y_test ]\n",
    "    s = precision_recall_fscore_support(y_true, y_pred, average='micro')\n",
    "    print('Precision: {}'.format(s[0]))"
   ]
  },
  {
   "cell_type": "markdown",
   "metadata": {},
   "source": [
    "### TF/IDF"
   ]
  },
  {
   "cell_type": "code",
   "execution_count": null,
   "metadata": {},
   "outputs": [],
   "source": [
    "from sklearn.model_selection import train_test_split\n",
    "import scipy.sparse\n",
    "\n",
    "weights_path= \"D:/MachineLearning/Dataset/tfidf_Logistic_wts.h5\"\n",
    "model_path = \"D:/MachineLearning/Dataset/tfidf_Logistic_model.json\"\n",
    "x_test = np.load('D:/MachineLearning/Dataset/test_data/x_test_tfidf.npy')\n",
    "y_test = np.load('D:/MachineLearning/Dataset/test_data/y_test_tfidf.npy')\n",
    "\n",
    "model_evaluation(x_test.todense(), y_test, model_path, weights_path, lable_path)"
   ]
  },
  {
   "cell_type": "markdown",
   "metadata": {},
   "source": [
    "### Average Word2Vec  "
   ]
  },
  {
   "cell_type": "code",
   "execution_count": 11,
   "metadata": {},
   "outputs": [
    {
     "name": "stdout",
     "output_type": "stream",
     "text": [
      "Precision: 0.311387511598796\n",
      "Recall: 0.311387511598796\n",
      "F1-Score: 0.311387511598796\n"
     ]
    }
   ],
   "source": [
    "\n",
    "weights_path= \"D:/MachineLearning/Dataset/w2v_Logistic_wts.h5\"\n",
    "model_path = \"D:/MachineLearning/Dataset/w2v_Logistic_model.json\"\n",
    "x_test = np.load('D:/MachineLearning/Dataset/test_data/x_test_w2v.npy')\n",
    "y_test = np.load('D:/MachineLearning/Dataset/test_data/y_test_w2v.npy')\n",
    "\n",
    "model_evaluation(x_test, y_test, model_path, weights_path)"
   ]
  },
  {
   "cell_type": "markdown",
   "metadata": {},
   "source": [
    "### RNN with 2 LSTM layers"
   ]
  },
  {
   "cell_type": "code",
   "execution_count": null,
   "metadata": {},
   "outputs": [],
   "source": []
  }
 ],
 "metadata": {
  "kernelspec": {
   "display_name": "Python 3",
   "language": "python",
   "name": "python3"
  },
  "language_info": {
   "codemirror_mode": {
    "name": "ipython",
    "version": 3
   },
   "file_extension": ".py",
   "mimetype": "text/x-python",
   "name": "python",
   "nbconvert_exporter": "python",
   "pygments_lexer": "ipython3",
   "version": "3.6.4"
  }
 },
 "nbformat": 4,
 "nbformat_minor": 2
}
